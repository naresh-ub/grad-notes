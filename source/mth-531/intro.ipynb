{
 "cells": [
  {
   "cell_type": "markdown",
   "metadata": {},
   "source": [
    "# MTH 531 Intro to Real Variables 1\n",
    "\n",
    "---\n",
    "* Semester: Fall 2024\n",
    "* Instructor: [Mohan Ramachandran](https://www.buffalo.edu/cas/math/people/faculty/ramachandran.html)\n",
    "* Reference text book: [Analysis by its history](https://www.amazon.com/Analysis-History-Undergraduate-Texts-Mathematics/dp/0387770313)\n",
    "\n",
    "---\n",
    "\n",
    "My first grad course in Analysis. The course follows chapters III.1 to III.8 from the reference [text book](https://www.amazon.com/Analysis-History-Undergraduate-Texts-Mathematics/dp/0387770313).\n",
    "\n",
    "```{admonition} Why this course? (note to self)\n",
    ":class: note, dropdown\n",
    "By the end of the course, complete this dropdown by answering the following questions.\n",
    "\n",
    "- [ ] How does the analysis course help with Computer Science research?\n",
    "- [ ] How does this course help with Machine Learning research?\n",
    "- [ ] Key takeaways from the course\n",
    "\n",
    "```\n"
   ]
  },
  {
   "cell_type": "code",
   "execution_count": null,
   "metadata": {},
   "outputs": [],
   "source": []
  }
 ],
 "metadata": {
  "kernelspec": {
   "display_name": "doc_env",
   "language": "python",
   "name": "python3"
  },
  "language_info": {
   "codemirror_mode": {
    "name": "ipython",
    "version": 3
   },
   "file_extension": ".py",
   "mimetype": "text/x-python",
   "name": "python",
   "nbconvert_exporter": "python",
   "pygments_lexer": "ipython3",
   "version": "3.10.0"
  }
 },
 "nbformat": 4,
 "nbformat_minor": 2
}
