{
 "cells": [
  {
   "cell_type": "markdown",
   "metadata": {},
   "source": [
    "# Pre-Requisites for CS students\n",
    "\n",
    "If you have not taken any MTH course at UB and come from a non-math background, **the course is hard!**\n",
    "\n",
    "The course assumes "
   ]
  },
  {
   "cell_type": "code",
   "execution_count": 1,
   "metadata": {},
   "outputs": [
    {
     "data": {
      "text/html": [
       "\n",
       "        <div style=\"width: 100%;\">\n",
       "          <video width=\"100%\" controls>\n",
       "              <source src=\"/Users/naresh/Downloads/phd/books/source/_static/media/MovingFrameBox_1727670833.mp4\" type=\"video/mp4\">\n",
       "              Your browser does not support the video tag.\n",
       "          </video>\n",
       "        </div>\n",
       "        "
      ],
      "text/plain": [
       "<IPython.core.display.HTML object>"
      ]
     },
     "metadata": {},
     "output_type": "display_data"
    }
   ],
   "source": [
    "from imports import *\n",
    "\n",
    "class MovingFrameBox(Scene):\n",
    "    def construct(self):\n",
    "        \n",
    "        manim_text = Tex(r\"This animation is made using\", color=BLUE)\n",
    "        mt2 = Tex(r\"Manim\", color=GOLD).scale(2).next_to(manim_text, DOWN)\n",
    "\n",
    "        text=MathTex(\n",
    "            \"\\\\frac{d}{dx}f(x)g(x)=\",\"f(x)\\\\frac{d}{dx}g(x)\",\"+\",\n",
    "            \"g(x)\\\\frac{d}{dx}f(x)\"\n",
    "        )\n",
    "        \n",
    "        txt_group = VGroup(manim_text, mt2).move_to(ORIGIN)\n",
    "        for i in txt_group:\n",
    "            self.play(Write(i))\n",
    "        \n",
    "        self.wait()\n",
    "        \n",
    "        self.play(FadeOut(txt_group))\n",
    "        self.play(Write(text))\n",
    "        framebox1 = SurroundingRectangle(text[1], buff = .1)\n",
    "        framebox2 = SurroundingRectangle(text[3], buff = .1)\n",
    "        self.play(\n",
    "            Create(framebox1),\n",
    "        )\n",
    "        self.wait()\n",
    "        self.play(\n",
    "            ReplacementTransform(framebox1,framebox2),\n",
    "        )\n",
    "        self.wait()\n",
    "        \n",
    "# Use render_scene_with_quality if interacting in browser.\n",
    "render_local(MovingFrameBox, '-qh') # DONT remove the below line."
   ]
  }
 ],
 "metadata": {
  "kernelspec": {
   "display_name": "doc_env",
   "language": "python",
   "name": "python3"
  },
  "language_info": {
   "codemirror_mode": {
    "name": "ipython",
    "version": 3
   },
   "file_extension": ".py",
   "mimetype": "text/x-python",
   "name": "python",
   "nbconvert_exporter": "python",
   "pygments_lexer": "ipython3",
   "version": "3.10.0"
  }
 },
 "nbformat": 4,
 "nbformat_minor": 2
}