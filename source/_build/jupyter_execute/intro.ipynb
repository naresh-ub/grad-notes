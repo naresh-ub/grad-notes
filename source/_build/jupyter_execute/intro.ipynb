{
 "cells": [
  {
   "cell_type": "markdown",
   "id": "f261fbc2-0a8f-47a5-830a-fce09d2e06ad",
   "metadata": {
    "editable": true,
    "slideshow": {
     "slide_type": ""
    },
    "tags": []
   },
   "source": [
    "# Grad Notes\n",
    "\n",
    "Hi there! I am Naresh Kumar, a PhD candidate (Chair’s Fellow) at the University at Buffalo, SUNY. This website is where I jot down notes for courses and concepts I’ve learned during my PhD. The motivation for creating this site is to provide an interactive environment to help others learn and visualize concepts in Computer Science.\n",
    "\n",
    "## Interactivity\n",
    "\n",
    "Each code cell throughout this website is **interactive**. For example, you can run/edit the code cell below. Simply using the {fa}`rocket` icon on top of the page and click \"Live Code\", wait for the binder to pull up and viola! You will have options to run/edit code."
   ]
  },
  {
   "cell_type": "code",
   "execution_count": 3,
   "id": "d7b5835c",
   "metadata": {},
   "outputs": [
    {
     "name": "stdout",
     "output_type": "stream",
     "text": [
      "This is an interactive code cell.\n"
     ]
    }
   ],
   "source": [
    "print(\"This is an interactive code cell.\")\n",
    "\n",
    "# Try running this cell by clicking the 'Run' button.\n",
    "# Use Live Code option from the top of the page to get options to run."
   ]
  },
  {
   "cell_type": "markdown",
   "id": "5c08e565",
   "metadata": {},
   "source": [
    "This website uses [sphinx-thebe](https://sphinx-thebe.readthedocs.io/en/latest/) and [jupyter-book](https://jupyterbook.org/en/stable/intro.html) to enable Live Code options in this website.\n",
    "\n",
    "## Visualizations\n",
    "\n",
    "[Manim](https://www.manim.community/) provides a wonderful way to create visualizations using python code. YouTube channels such as [3b1b's videos](https://www.youtube.com/@3blue1brown), [$v^3(x)$](https://www.youtube.com/@vcubingx) use manim to create math animations.\n",
    "\n",
    "This website uses [mybinder](mybinder.org), [DockerHub](https://www.docker.com/), and [GitHub workflows](https://docs.github.com/en/actions/writing-workflows) to automatically build and generate manim visualizations within this website and **the best part is that, the code is editable and provides you an interactive way to create your own animations.**\n",
    "\n",
    "For example, take a look at a manim code example cell below. **Try to edit the code out, its fun!** You can find manim documentation with more examples [here](https://docs.manim.community/en/stable/examples.html)."
   ]
  },
  {
   "cell_type": "code",
   "execution_count": 2,
   "id": "7295db3c",
   "metadata": {
    "editable": true,
    "slideshow": {
     "slide_type": ""
    },
    "tags": []
   },
   "outputs": [
    {
     "data": {
      "text/html": [
       "\n",
       "        <div style=\"width: 100%;\">\n",
       "          <video width=\"100%\" controls playsinline>\n",
       "              <source src=\"_static/media/MovingFrameBox_1727914076.mp4\" type=\"video/mp4\">\n",
       "              Your browser does not support the video tag.\n",
       "          </video>\n",
       "        </div>\n",
       "        "
      ],
      "text/plain": [
       "<IPython.core.display.HTML object>"
      ]
     },
     "metadata": {},
     "output_type": "display_data"
    }
   ],
   "source": [
    "from imports import *\n",
    "\n",
    "class MovingFrameBox(Scene):\n",
    "    def construct(self):\n",
    "        \n",
    "        manim_text = Tex(r\"This animation is made using\", color=BLUE)\n",
    "        mt2 = Tex(r\"Manim\", color=GOLD).scale(2).next_to(manim_text, DOWN)\n",
    "\n",
    "        text=MathTex(\n",
    "            \"\\\\frac{d}{dx}f(x)g(x)=\",\"f(x)\\\\frac{d}{dx}g(x)\",\"+\",\n",
    "            \"g(x)\\\\frac{d}{dx}f(x)\"\n",
    "        )\n",
    "        \n",
    "        txt_group = VGroup(manim_text, mt2).move_to(ORIGIN)\n",
    "        for i in txt_group:\n",
    "            self.play(Write(i))\n",
    "        \n",
    "        self.wait()\n",
    "        \n",
    "        self.play(FadeOut(txt_group))\n",
    "        self.play(Write(text))\n",
    "        framebox1 = SurroundingRectangle(text[1], buff = .1)\n",
    "        framebox2 = SurroundingRectangle(text[3], buff = .1)\n",
    "        self.play(\n",
    "            Create(framebox1),\n",
    "        )\n",
    "        self.wait()\n",
    "        self.play(\n",
    "            ReplacementTransform(framebox1,framebox2),\n",
    "        )\n",
    "        self.wait()\n",
    "\n",
    "render_manim(MovingFrameBox, '-qm', \"browser\") # use \"browser\" for online rendering"
   ]
  },
  {
   "cell_type": "code",
   "execution_count": 2,
   "id": "1e813a26-f11b-4f0d-8c99-705a399ef35c",
   "metadata": {
    "editable": true,
    "slideshow": {
     "slide_type": ""
    },
    "tags": [
     "hide-input"
    ]
   },
   "outputs": [
    {
     "data": {
      "text/html": [
       "\n",
       "        <div style=\"width: 100%;\">\n",
       "          <video width=\"100%\" controls playsinline>\n",
       "              <source src=\"_static/media/FollowingGraphCamera_1728002005.mp4\" type=\"video/mp4\">\n",
       "              Your browser does not support the video tag.\n",
       "          </video>\n",
       "        </div>\n",
       "        "
      ],
      "text/plain": [
       "<IPython.core.display.HTML object>"
      ]
     },
     "metadata": {},
     "output_type": "display_data"
    }
   ],
   "source": [
    "from imports import *\n",
    "\n",
    "class FollowingGraphCamera(MovingCameraScene):\n",
    "    def construct(self):\n",
    "        self.camera.frame.save_state()\n",
    "\n",
    "        # create the axes and the curve\n",
    "        ax = Axes(x_range=[-1, 10], y_range=[-1, 10])\n",
    "        graph = ax.plot(lambda x: np.sin(x), color=BLUE, x_range=[0, 3 * PI])\n",
    "\n",
    "        # create dots based on the graph\n",
    "        moving_dot = Dot(ax.i2gp(graph.t_min, graph), color=ORANGE)\n",
    "        dot_1 = Dot(ax.i2gp(graph.t_min, graph))\n",
    "        dot_2 = Dot(ax.i2gp(graph.t_max, graph))\n",
    "\n",
    "        self.add(ax, graph, dot_1, dot_2, moving_dot)\n",
    "        self.play(self.camera.frame.animate.scale(0.5).move_to(moving_dot))\n",
    "\n",
    "        def update_curve(mob):\n",
    "            mob.move_to(moving_dot.get_center())\n",
    "\n",
    "        self.camera.frame.add_updater(update_curve)\n",
    "        self.play(MoveAlongPath(moving_dot, graph, rate_func=linear))\n",
    "        self.camera.frame.remove_updater(update_curve)\n",
    "\n",
    "        self.play(Restore(self.camera.frame))\n",
    "\n",
    "render_manim(FollowingGraphCamera, '-qm', \"browser\") # use \"browser\" for online rendering"
   ]
  },
  {
   "cell_type": "markdown",
   "id": "cd5abe06",
   "metadata": {
    "editable": true,
    "slideshow": {
     "slide_type": ""
    },
    "tags": []
   },
   "source": [
    "## Extensions and much more!\n",
    "\n",
    "This website is built using [Sphinx](https://www.sphinx-doc.org/en/master/). All features in this website are listed here."
   ]
  }
 ],
 "metadata": {
  "kernelspec": {
   "display_name": "Python 3 (ipykernel)",
   "language": "python",
   "name": "python3"
  },
  "language_info": {
   "codemirror_mode": {
    "name": "ipython",
    "version": 3
   },
   "file_extension": ".py",
   "mimetype": "text/x-python",
   "name": "python",
   "nbconvert_exporter": "python",
   "pygments_lexer": "ipython3",
   "version": "3.10.0"
  }
 },
 "nbformat": 4,
 "nbformat_minor": 5
}