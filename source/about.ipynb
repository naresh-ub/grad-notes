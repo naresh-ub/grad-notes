{
 "cells": [
  {
   "cell_type": "markdown",
   "id": "da658c2a-3507-42dc-9afd-0f14e0281f20",
   "metadata": {},
   "source": [
    "# About me and Website ToDos:\n",
    "\n",
    "Thanks for dropping by! You can find my website <a href=\"https://naresh-ub.github.io\" target=\"_blank\">here</a> (opens in a new tab).\n",
    "\n",
    "**Summary**: I am a PhD student who is very excited about learning **primarily through visualizations**. This website is everything I wished for as a student to learn concepts in an interactive way. I hope you like what I was able to build with my limited knowledge in sphinx and JS. Reach out to me [{fa}`envelope`](mailto:devulapa@buffalo.edu) if you would like to contribute to this website.\n",
    "\n",
    "## Website ToDos:\n",
    "\n",
    "- [x] 🎉 Sphinx-thebe integration with proper styling to code blocks (dark mode render fix).\n",
    "- [x] 🎉 Manim integration (without needing to rebuild on every git push).\n",
    "- [x] 🎉 Interact with manim code within website.\n",
    "- [x] 🎉 TikZ integration (for better images).\n",
    "- [x] 🎉 Plotly integration with ability to edit.\n",
    "- [ ] ⏳ Ability to interact/edit TikZ code and pgfplots.\n",
    "- [ ] Let me know! <a href=\"https://github.com/naresh-ub/grad-notes/issues\" target=\"_blank\">{fa}`github`</a> (opens in a new tab).\n",
    "\n",
    "## What am I working on (w.r.t. this website)\n",
    "\n",
    "- Learning TikZ to make better images\n",
    "- Completing my notes for MTH-531 (Intro to Real Variables 1 course)"
   ]
  },
  {
   "cell_type": "code",
   "execution_count": null,
   "id": "62351e6a-5b7f-4ade-ac34-0fc4a4aa569a",
   "metadata": {},
   "outputs": [],
   "source": []
  }
 ],
 "metadata": {
  "kernelspec": {
   "display_name": "Python 3 (ipykernel)",
   "language": "python",
   "name": "python3"
  },
  "language_info": {
   "codemirror_mode": {
    "name": "ipython",
    "version": 3
   },
   "file_extension": ".py",
   "mimetype": "text/x-python",
   "name": "python",
   "nbconvert_exporter": "python",
   "pygments_lexer": "ipython3",
   "version": "3.10.0"
  }
 },
 "nbformat": 4,
 "nbformat_minor": 5
}
