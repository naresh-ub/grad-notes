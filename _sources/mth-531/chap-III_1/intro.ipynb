{
 "cells": [
  {
   "cell_type": "markdown",
   "metadata": {},
   "source": [
    "# Chapter III.1 Foundations of Classical Analysis\n",
    "\n",
    "````{admonition} What is a sequence?\n",
    ":class: seealso\n",
    "\n",
    "In simple terms a sequence can be defined as a collection of numbers. Sequences are ordered and indexed (starting from 0 or 1). $\\{s_n\\}$ is the mathematical notation to represent a sequence.\n",
    "\n",
    "For example, a sequence of $n$ numbers can be defined as below:\n",
    "\n",
    "```{math}\n",
    ":label: seq_def\n",
    "\\{s_n\\} = \\{s_1, s_2, s_3, ..., s_n \\}\n",
    "```\n",
    "````\n",
    "\n",
    "Depending on the properties that are satisfied by elements in a sequence there are some special kind of sequences (also called progressions).\n",
    "\n",
    "For example, an **_arithmetic progression_** is a sequence where the difference of two successive terms is constant i.e., $s_2 - s_1 = s_3 - s_2 = s_k - s_{k-1} \\enspace \\forall k \\in [2, n]$. Similarly, a **_geometric progression_** is a sequence where the quotient of two successive terms is a constant. An example sequence with common quotient $q$ between successive terms is given by $\\{ q^0, q^1, ..., q^{n-1}\\}$.\n",
    "\n",
    "<p class=\"custom-text\">Convergence of a sequence</p>\n",
    "\n",
    "If a _sequence $\\{s_n\\}$_ {eq}`seq_def` approaches **arbitrarily close** to a number $s$ for $n$ **large enough**, we call this number $s$ to be the _limit_ of $\\{s_n\\}$. More details:\n",
    "\n",
    "- \"arbitrarily close\" here means, closer than any positive number $\\varepsilon$, meaning $|s_n - s| < \\varepsilon$. Here $| \\cdot |$ refers to the _absolute value_ and ensures $s_n$ is close to the _limit_ $s$ in the positive _and_ negative direction.\n",
    "- \"for $n$ large enough\" means that there must be an $N$ where the condition $|s_n - s| < \\varepsilon$ is true for all $n \\geq N$.\n",
    "\n",
    "Symbols $\\forall$ (\"for all\") and $\\exists$ (\"there exists\") are used for compactness. We have our first definition of the chapter.\n",
    "\n",
    "````{admonition} Def 1.1: Convergence of a sequence\n",
    ":class: tip\n",
    ":name: def_1_1\n",
    "\n",
    "We say a sequence $s_n$ {eq}`seq_def` coverges if there exists a number $s$ such that\n",
    "\n",
    "```{math}\n",
    ":label: conv_def\n",
    "\n",
    "\\forall \\varepsilon > 0 \\enspace \\exists N \\geq 1 \\enspace \\forall n \\geq N \\enspace |s_n - s| < \\varepsilon\n",
    "```\n",
    "```` "
   ]
  },
  {
   "cell_type": "code",
   "execution_count": null,
   "metadata": {
    "tags": [
     "hide-input"
    ]
   },
   "outputs": [],
   "source": [
    "import numpy as np\n",
    "import matplotlib.pyplot as plt\n",
    "import math\n",
    "\n",
    "plt.figure(figsize=(5, 5))\n",
    "\n",
    "def sequence(n):\n",
    "    result = 0\n",
    "    for i in range(1, n + 1):\n",
    "        sign = (-1) ** (math.floor((i - 1) / 2))\n",
    "        result += sign * (1 / i)\n",
    "    return result\n",
    "\n",
    "# Generate values for n from 1 to 1000\n",
    "n_values = np.arange(1, 100)\n",
    "\n",
    "# Vectorize the sequence function to apply it to each value in n_values\n",
    "vectorized_sequence = np.vectorize(sequence)\n",
    "sequence_values = vectorized_sequence(n_values)\n",
    "approx_limit = sequence(10000)\n",
    "\n",
    "# Plot the sequence values\n",
    "plt.plot(n_values, sequence_values, color='b', label=r'$S_n$')\n",
    "plt.plot(n_values, approx_limit * np.ones(n_values.shape), color='r', label=r'$S$')\n",
    "\n",
    "# Add labels and title\n",
    "plt.xlabel('n')\n",
    "plt.ylabel(r'$S_n$')\n",
    "plt.title('Sequence Values for Different n')\n",
    "plt.legend()\n",
    "\n",
    "# Show the plot\n",
    "plt.show()"
   ]
  },
  {
   "cell_type": "markdown",
   "metadata": {},
   "source": [
    "<details class=\"toggle-details\" open>\n",
    "  <summary class=\"toggle-details__summary\"> ⧨ Toggle plt GIFs</summary>\n",
    "\n",
    "  <div style=\"display: flex; justify-content: center; align-items: center; flex-wrap: wrap;\">\n",
    "    <img src=\"../../_static/media/sequence_convergence.gif\" style=\"width: 45%; max-width: 100%; margin-right: 10px;\"/> \n",
    "    <img src=\"../../_static/media/sequence_divergence.gif\" style=\"width: 45%; max-width: 100%;\"/>\n",
    "  </div>\n",
    "\n",
    "</details>"
   ]
  },
  {
   "cell_type": "markdown",
   "metadata": {},
   "source": []
  }
 ],
 "metadata": {
  "kernelspec": {
   "display_name": "Python 3 (ipykernel)",
   "language": "python",
   "name": "python3"
  },
  "language_info": {
   "codemirror_mode": {
    "name": "ipython",
    "version": 3
   },
   "file_extension": ".py",
   "mimetype": "text/x-python",
   "name": "python",
   "nbconvert_exporter": "python",
   "pygments_lexer": "ipython3",
   "version": "3.10.0"
  }
 },
 "nbformat": 4,
 "nbformat_minor": 4
}
